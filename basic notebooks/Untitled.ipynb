{
 "cells": [
  {
   "cell_type": "code",
   "execution_count": 3,
   "id": "e7494897-a00f-457f-a975-ecdb00669384",
   "metadata": {},
   "outputs": [
    {
     "data": {
      "text/plain": [
       "'4.9.0'"
      ]
     },
     "execution_count": 3,
     "metadata": {},
     "output_type": "execute_result"
    }
   ],
   "source": [
    "import numpy as np\n",
    "import cv2\n",
    "cv2.__version__\n"
   ]
  },
  {
   "cell_type": "markdown",
   "id": "15f4ef00-26a7-491e-b77c-7da40c015d3c",
   "metadata": {},
   "source": [
    "## Access and Understand Pixel Data"
   ]
  },
  {
   "cell_type": "code",
   "execution_count": null,
   "id": "4c1b686b-d171-450c-ae5a-301f9f41fef3",
   "metadata": {},
   "outputs": [],
   "source": [
    "img = cv2.imread(\"logo.jpg\")\n",
    "cv2.namedWindow(\"Image\", cv2.WINDOW_NORMAL)\n",
    "cv2.imshow(\"Image\", img)\n",
    "\n",
    "cv2.waitKey(0)"
   ]
  },
  {
   "cell_type": "code",
   "execution_count": null,
   "id": "ec35089d-98e3-456d-a212-0ab0b90f8fe4",
   "metadata": {},
   "outputs": [],
   "source": [
    "print(img)\n",
    "print(type(img))\n",
    "print(len(img[0]))\n",
    "print(len(img[0][0]))\n",
    "print(img.shape)\n",
    "print(img.dtype)"
   ]
  },
  {
   "cell_type": "code",
   "execution_count": null,
   "id": "d1f47a04-f4c4-4b52-a260-f50ac0fa0e18",
   "metadata": {},
   "outputs": [],
   "source": []
  },
  {
   "cell_type": "code",
   "execution_count": null,
   "id": "048c7774-31aa-452b-a662-2924bf06f080",
   "metadata": {},
   "outputs": [],
   "source": []
  }
 ],
 "metadata": {
  "kernelspec": {
   "display_name": "Python [conda env:pytorch-env] *",
   "language": "python",
   "name": "conda-env-pytorch-env-py"
  },
  "language_info": {
   "codemirror_mode": {
    "name": "ipython",
    "version": 3
   },
   "file_extension": ".py",
   "mimetype": "text/x-python",
   "name": "python",
   "nbconvert_exporter": "python",
   "pygments_lexer": "ipython3",
   "version": "3.11.8"
  },
  "widgets": {
   "application/vnd.jupyter.widget-state+json": {
    "state": {},
    "version_major": 2,
    "version_minor": 0
   }
  }
 },
 "nbformat": 4,
 "nbformat_minor": 5
}
